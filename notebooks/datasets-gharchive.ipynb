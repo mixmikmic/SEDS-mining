{
 "cells": [
  {
   "cell_type": "code",
   "execution_count": 7,
   "metadata": {},
   "outputs": [],
   "source": [
    "\n",
    "import requests\n",
    "import gzip\n",
    "import json\n",
    "import traceback\n",
    "\n",
    "\n",
    "from pyspark.sql import SQLContext\n",
    "from pyspark.sql import functions as F  \n",
    "from pyspark.sql import types as T"
   ]
  },
  {
   "cell_type": "code",
   "execution_count": 15,
   "metadata": {},
   "outputs": [],
   "source": [
    "# events_list is a list of dicts to store all the json files from GitHub-Archive\n",
    "events_list = []\n",
    "\n",
    "\n",
    "def extract_data():\n",
    "  # extracts json.gz from GHArchive and loads events_list with the data\n",
    "  \n",
    "  for hour in range(12):\n",
    "    url = 'http://data.gharchive.org/2015-01-01-'+str(hour)+'.json.gz'\n",
    "    r = requests.get(url)\n",
    "    file_path = \"../datasets/\"+url.split(\"/\")[-1]\n",
    "\n",
    "    with open(file_path, 'wb') as f:\n",
    "        f.write(r.content)\n",
    "\n",
    "    with gzip.open(file_path, 'rb') as f:\n",
    "        for line in f:\n",
    "            event = json.loads(line.decode(\"utf-8\"))\n",
    "            events_list.append(event)\n",
    "  return"
   ]
  },
  {
   "cell_type": "code",
   "execution_count": 16,
   "metadata": {},
   "outputs": [],
   "source": [
    "    extract_data()\n"
   ]
  },
  {
   "cell_type": "code",
   "execution_count": 19,
   "metadata": {},
   "outputs": [
    {
     "ename": "NameError",
     "evalue": "name 'spark' is not defined",
     "output_type": "error",
     "traceback": [
      "\u001b[0;31m---------------------------------------------------------------------------\u001b[0m",
      "\u001b[0;31mNameError\u001b[0m                                 Traceback (most recent call last)",
      "Cell \u001b[0;32mIn[19], line 13\u001b[0m\n\u001b[1;32m     11\u001b[0m \u001b[39m# creating dataframe from json files \u001b[39;00m\n\u001b[1;32m     12\u001b[0m file_path \u001b[39m=\u001b[39m \u001b[39m\"\u001b[39m\u001b[39m../datasets/2015-01-01.json\u001b[39m\u001b[39m\"\u001b[39m\n\u001b[0;32m---> 13\u001b[0m master_df \u001b[39m=\u001b[39m spark\u001b[39m.\u001b[39mread\u001b[39m.\u001b[39mformat(\u001b[39m\"\u001b[39m\u001b[39mjson\u001b[39m\u001b[39m\"\u001b[39m)\u001b[39m.\u001b[39mload(file_path)\n",
      "\u001b[0;31mNameError\u001b[0m: name 'spark' is not defined"
     ]
    }
   ],
   "source": [
    "\n",
    "# To create dataframe directly from events_list, we need to create schema explicitly.\n",
    "# The events_list is nested with more than 7 layers deep and hundreds of fields.\n",
    "# Instead dumping it as a json in DBFS (DataBricks File System) and creating \n",
    "# dataframe from json automatically infers the schema. \n",
    "\n",
    "# dumping archive extract into DBFS\n",
    "file_path = \"../datasets/2015-01-01.json\"   \n",
    "with open(file_path, 'w+') as fout:\n",
    "  json.dump(events_list, fout)\n",
    "\n",
    "# creating dataframe from json files \n",
    "file_path = \"../datasets/2015-01-01.json\"\n",
    "master_df = spark.read.format(\"json\").load(file_path)"
   ]
  },
  {
   "cell_type": "code",
   "execution_count": null,
   "metadata": {},
   "outputs": [],
   "source": [
    "\n",
    "main_df = master_df.select(F.col(\"actor.id\").alias(\"actor_id\"), \n",
    "                           F.col(\"org.id\").alias(\"org_id\"), \n",
    "                           F.col(\"id\").alias(\"event_id\"), \n",
    "                           F.col(\"created_at\"), \n",
    "                           F.col(\"repo.id\").alias(\"repo_id\"), \n",
    "                           F.col(\"type\").alias(\"event_type\"))\n",
    "# main_df.show()"
   ]
  }
 ],
 "metadata": {
  "kernelspec": {
   "display_name": "base",
   "language": "python",
   "name": "python3"
  },
  "language_info": {
   "codemirror_mode": {
    "name": "ipython",
    "version": 3
   },
   "file_extension": ".py",
   "mimetype": "text/x-python",
   "name": "python",
   "nbconvert_exporter": "python",
   "pygments_lexer": "ipython3",
   "version": "3.10.9"
  },
  "orig_nbformat": 4
 },
 "nbformat": 4,
 "nbformat_minor": 2
}
